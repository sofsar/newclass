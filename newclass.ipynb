{
 "cells": [
  {
   "cell_type": "markdown",
   "id": "5dfb76a0",
   "metadata": {},
   "source": [
    "# Adding students to a class\n",
    "    The user will be asked whether to add or not students to a class. When all the students are added, a list with \n",
    "    the students' names will be displayed."
   ]
  },
  {
   "cell_type": "code",
   "execution_count": 10,
   "id": "f246601b",
   "metadata": {
    "scrolled": false
   },
   "outputs": [
    {
     "name": "stdout",
     "output_type": "stream",
     "text": [
      "Do you want to add a student? yes\n",
      "Enter the student name: sofia\n",
      "Student successfully added!\n",
      "Do you want to add a student? yes\n",
      "Enter the student name: carol\n",
      "Student successfully added!\n",
      "Do you want to add a student? yes\n",
      "Enter the student name: katja\n",
      "Student successfully added!\n",
      "Do you want to add a student? I don't know\n",
      "Please answer the question!\n",
      "Do you want to add a student? no\n",
      "The following 3 students are in the class:\n",
      "Carol\n",
      "Katja\n",
      "Sofia\n"
     ]
    }
   ],
   "source": [
    "def main ():\n",
    "    students = []\n",
    "    add = input(\"Do you want to add a student? \")\n",
    "    while add.lower() != \"no\" and add.lower() != \"yes\":\n",
    "        print(\"Please answer the question!\")\n",
    "        add = input(\"Do you want to add a student? \")\n",
    "    \n",
    "    while add.lower() == \"yes\":\n",
    "        studentname = input(\"Enter the student name: \")\n",
    "        students.append(studentname.title())\n",
    "        print(\"Student successfully added!\")\n",
    "        add = input(\"Do you want to add a student? \")\n",
    "        while add.lower() != \"no\" and add.lower() != \"yes\":\n",
    "            print(\"Please answer the question!\")\n",
    "            add = input(\"Do you want to add a student? \")\n",
    "\n",
    "    if add.lower() == \"no\":  \n",
    "            if len(students) == 0:\n",
    "                print(\"The class is empty!\")\n",
    "            if len(students) == 1:\n",
    "                print(\"The following student is in the class:\")\n",
    "                print(students[0])\n",
    "            if len(students) > 1:   \n",
    "                students.sort()\n",
    "                print(f\"The following {len(students)} students are in the class:\")\n",
    "                print(*students, sep = \"\\n\")\n",
    "                \n",
    "main()"
   ]
  }
 ],
 "metadata": {
  "kernelspec": {
   "display_name": "Python 3",
   "language": "python",
   "name": "python3"
  },
  "language_info": {
   "codemirror_mode": {
    "name": "ipython",
    "version": 3
   },
   "file_extension": ".py",
   "mimetype": "text/x-python",
   "name": "python",
   "nbconvert_exporter": "python",
   "pygments_lexer": "ipython3",
   "version": "3.8.8"
  }
 },
 "nbformat": 4,
 "nbformat_minor": 5
}
