{
 "cells": [
  {
   "cell_type": "markdown",
   "id": "5dfb76a0",
   "metadata": {},
   "source": [
    "# Adding students to a class\n",
    "    The user will be asked whether to add or not students to a class. When all the students are added, a sentence with \n",
    "    the students' names will be displayed."
   ]
  },
  {
   "cell_type": "code",
   "execution_count": 2,
   "id": "f246601b",
   "metadata": {},
   "outputs": [
    {
     "name": "stdout",
     "output_type": "stream",
     "text": [
      "Do you want to add a student? yes\n",
      "Enter the student name: matthew\n",
      "Student successfully added!\n",
      "Do you want to add a student? yes\n",
      "Enter the student name: carmen\n",
      "Student successfully added!\n",
      "Do you want to add a student? no\n",
      "The following students are in the class: Matthew and Carmen.\n"
     ]
    }
   ],
   "source": [
    "def main ():\n",
    "    alunos = []\n",
    "    adicionar = input(\"Do you want to add a student? \")\n",
    "    while adicionar.lower() != \"no\" and adicionar.lower() != \"yes\":\n",
    "        print(\"Please answer the question!\")\n",
    "        adicionar = input(\"Do you want to add a student? \")\n",
    "    \n",
    "    while adicionar.lower() == \"yes\":\n",
    "        nome_aluno = input(\"Enter the student name: \")\n",
    "        alunos.append(nome_aluno.title())\n",
    "        print(\"Student successfully added!\")\n",
    "        adicionar = input(\"Do you want to add a student? \")\n",
    "        while adicionar.lower() != \"no\" and adicionar.lower() != \"yes\":\n",
    "            print(\"Please answer the question!\")\n",
    "            adicionar = input(\"Do you want to add a student? \")\n",
    "\n",
    "    if adicionar.lower() == \"no\":  \n",
    "            if len(alunos) == 0:\n",
    "                print(\"The class is empty!\")\n",
    "            if len(alunos) == 1:\n",
    "                print(f\"The following student is in the class: {alunos[0]}.\")\n",
    "            if len(alunos) > 1:   \n",
    "                alunos_string = \", \".join(alunos[:-1])\n",
    "                ultimo_aluno = \"\".join(alunos[-1:])\n",
    "                print(f\"The following students are in the class: {alunos_string} and {ultimo_aluno}.\")\n",
    "                \n",
    "main()"
   ]
  }
 ],
 "metadata": {
  "kernelspec": {
   "display_name": "Python 3",
   "language": "python",
   "name": "python3"
  },
  "language_info": {
   "codemirror_mode": {
    "name": "ipython",
    "version": 3
   },
   "file_extension": ".py",
   "mimetype": "text/x-python",
   "name": "python",
   "nbconvert_exporter": "python",
   "pygments_lexer": "ipython3",
   "version": "3.8.8"
  }
 },
 "nbformat": 4,
 "nbformat_minor": 5
}
